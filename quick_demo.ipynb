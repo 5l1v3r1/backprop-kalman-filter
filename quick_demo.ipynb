{
 "cells": [
  {
   "cell_type": "raw",
   "metadata": {},
   "source": [
    "Demonstrating variational kalman filter by backprop\n",
    "\n",
    "TODO:\n",
    "- support learning from a batch of time-series \n",
    "  currently the code only supports learning from one time-series. it can support multiple time-series, but it'll be slow.\n",
    "- better optimizer\n",
    "  inference doesn't really work well. using a better optimizer will definitely help.\n",
    "- test with nonlinear KF\n",
    "  only tested with linear KF but the code naturally supports nonlinear KF."
   ]
  },
  {
   "cell_type": "code",
   "execution_count": 239,
   "metadata": {},
   "outputs": [],
   "source": [
    "%matplotlib widget"
   ]
  },
  {
   "cell_type": "code",
   "execution_count": 240,
   "metadata": {},
   "outputs": [],
   "source": [
    "from matplotlib import pyplot as plot"
   ]
  },
  {
   "cell_type": "code",
   "execution_count": 241,
   "metadata": {},
   "outputs": [],
   "source": [
    "import numpy"
   ]
  },
  {
   "cell_type": "code",
   "execution_count": 242,
   "metadata": {},
   "outputs": [],
   "source": [
    "import torch\n",
    "from torch import nn\n",
    "from torch import distributions\n",
    "from torch import optim"
   ]
  },
  {
   "cell_type": "code",
   "execution_count": 243,
   "metadata": {},
   "outputs": [],
   "source": [
    "import itertools"
   ]
  },
  {
   "cell_type": "code",
   "execution_count": 244,
   "metadata": {},
   "outputs": [],
   "source": [
    "def softplus(x):\n",
    "    return torch.log(1+torch.exp(x))"
   ]
  },
  {
   "cell_type": "code",
   "execution_count": 259,
   "metadata": {},
   "outputs": [],
   "source": [
    "class GKF(nn.Module):\n",
    "    \n",
    "    def __init__(self, x_dim, h_dim, log_noise_level=0.): \n",
    "        super(GKF, self).__init__()\n",
    "        \n",
    "        # we assume an identity covariance in p(x_t|h_t) and p(h_t|h_{t-1})\n",
    "#         self.transition = nn.Linear(h_dim, h_dim)\n",
    "#         self.emission = nn.Linear(h_dim, x_dim)\n",
    "        \n",
    "        self.transition = nn.Sequential(nn.Linear(h_dim, h_dim), nn.ReLU(), nn.Linear(h_dim, h_dim))\n",
    "        self.emission = nn.Sequential(nn.Linear(h_dim, h_dim), nn.ReLU(), nn.Linear(h_dim,x_dim))\n",
    "        \n",
    "        self.initial = nn.Parameter(torch.zeros(h_dim))\n",
    "        \n",
    "        self.h_dcov = nn.Parameter(torch.zeros(h_dim)+log_noise_level)\n",
    "        self.x_dcov = nn.Parameter(torch.zeros(x_dim)+log_noise_level)\n",
    "        \n",
    "        self.h_dim = h_dim\n",
    "        self.x_dim = x_dim\n",
    "        \n",
    "    def joint_likelihood(self, x, z):\n",
    "        assert type(x) == list, 'x must be a list of vectors'\n",
    "        assert type(z) == list, 'z must be a list of vectors'\n",
    "        assert len(x)+1 == len(z), 'z must have one more element than x does'\n",
    "        \n",
    "        T = len(x)\n",
    "        \n",
    "        logp = self._compute_normal_log_p(z[0], self.initial, 1e-6+softplus(self.h_dcov))\n",
    "        \n",
    "        for t in range(T):\n",
    "            mu_z = self.transition(z[t])\n",
    "            logp += self._compute_normal_log_p(z[t+1], mu_z, 1e-6+softplus(self.h_dcov))\n",
    "            mu_x = self.emission(z[t+1])\n",
    "            logp += self._compute_normal_log_p(x[t], mu_x, 1e-6+softplus(self.x_dcov))\n",
    "            \n",
    "        return logp\n",
    "    \n",
    "    def emit(self, z_list, sample=False):\n",
    "        x_list = []\n",
    "        \n",
    "        for z in z_list:\n",
    "            mu_x = self.emission(z)\n",
    "            if sample:\n",
    "                x = distributions.normal.Normal(mu_x, 1e-6+softplus(self.x_dcov)).sample()\n",
    "            else:\n",
    "                x = mu_x\n",
    "            x_list.append(x)\n",
    "            \n",
    "        return x_list\n",
    "            \n",
    "    def sample(self, T, z0=None):\n",
    "        if z0 is None:\n",
    "            z0 = distributions.normal.Normal(self.initial, 1e-6+softplus(self.h_dcov)).sample()\n",
    "            \n",
    "        z_list = [z0]\n",
    "        z = z0\n",
    "        \n",
    "        for t in range(T):\n",
    "            mu_z = self.transition(z)\n",
    "            z = distributions.normal.Normal(mu_z, 1e-6+softplus(self.h_dcov)).sample()\n",
    "            z_list.append(z)\n",
    "\n",
    "        x_list = self.emit(z_list[1:], sample=True)\n",
    "            \n",
    "        return x_list, z_list\n",
    "        \n",
    "    def _compute_normal_log_p(self, x, mu, diag_cov):\n",
    "        return distributions.normal.Normal(mu, torch.sqrt(1e-6+softplus(diag_cov))).log_prob(x).sum()\n",
    "#         return (-(((x - mu) ** 2) / (diag_cov+1e-6)) - torch.log(numpy.sqrt(2.) * torch.sqrt(diag_cov+1e-6))).sum()"
   ]
  },
  {
   "cell_type": "code",
   "execution_count": 260,
   "metadata": {},
   "outputs": [],
   "source": [
    "class GKFQ(nn.Module):\n",
    "    def __init__(self, h_dim, T):\n",
    "        super(GKFQ, self).__init__()\n",
    "        \n",
    "        self.diag_cov = nn.ParameterList()\n",
    "        self.mean = nn.ParameterList()\n",
    "        \n",
    "        for t in range(T):\n",
    "            self.diag_cov.append(nn.Parameter(torch.zeros(h_dim)))\n",
    "            self.mean.append(nn.Parameter(torch.zeros(h_dim)))\n",
    "            \n",
    "        self.T = T\n",
    "        self.h_dim = h_dim\n",
    "        \n",
    "    def sample(self):\n",
    "        samples = []\n",
    "        \n",
    "        for t in range(self.T):\n",
    "            ss = distributions.normal.Normal(self.mean[t], torch.sqrt(1e-6+softplus(self.diag_cov[t]))).rsample()\n",
    "            samples.append(ss)\n",
    "            \n",
    "        return samples\n",
    "    \n",
    "    def compute_log_p(self, z_list):\n",
    "        log_ps = []\n",
    "        for t in range(self.T):\n",
    "            log_ps.append(distributions.normal.Normal(self.mean[t], torch.sqrt(1e-6+softplus(self.diag_cov[t]))).log_prob(z_list[t]))\n",
    "        return log_ps\n",
    "    \n",
    "    def compute_entropy(self):\n",
    "        entropy = 0.\n",
    "        for t in range(self.T):\n",
    "            entropy += distributions.normal.Normal(self.mean[t], torch.sqrt(1e-6+softplus(self.diag_cov[t]))).entropy().sum()\n",
    "        return entropy"
   ]
  },
  {
   "cell_type": "code",
   "execution_count": 261,
   "metadata": {},
   "outputs": [],
   "source": [
    "x_dim = 10\n",
    "h_dim = 2\n",
    "T = 10"
   ]
  },
  {
   "cell_type": "code",
   "execution_count": 262,
   "metadata": {},
   "outputs": [],
   "source": [
    "gkf_target = GKF(x_dim, h_dim, log_noise_level=-2.)"
   ]
  },
  {
   "cell_type": "code",
   "execution_count": 263,
   "metadata": {},
   "outputs": [],
   "source": [
    "x_list, z_list = gkf_target.sample(T)"
   ]
  },
  {
   "cell_type": "code",
   "execution_count": 264,
   "metadata": {},
   "outputs": [],
   "source": [
    "''' inference '''\n",
    "inference_only = True\n",
    "\n",
    "if inference_only:\n",
    "    gkf_model = gkf_target\n",
    "else:\n",
    "    gkf_model = GKF(x_dim, h_dim)\n",
    "q_model = GKFQ(h_dim, len(x_list)+1)"
   ]
  },
  {
   "cell_type": "code",
   "execution_count": 265,
   "metadata": {},
   "outputs": [],
   "source": [
    "if inference_only:\n",
    "    optimizer = optim.SGD(q_model.parameters(), lr=0.01)\n",
    "#     optimizer = optim.Adam(q_model.parameters(), lr=.01)\n",
    "else:\n",
    "    optimizer = optim.SGD(itertools.chain(q_model.parameters(), gkf_model.parameters()), lr=0.01)"
   ]
  },
  {
   "cell_type": "code",
   "execution_count": 266,
   "metadata": {},
   "outputs": [
    {
     "name": "stdout",
     "output_type": "stream",
     "text": [
      "loss  112.23902893066406\n",
      "loss  109.11211395263672\n",
      "loss  112.1075210571289\n",
      "loss  108.31175231933594\n",
      "loss  109.36283874511719\n",
      "loss  108.25534057617188\n",
      "loss  111.44081115722656\n",
      "loss  108.15746307373047\n",
      "loss  108.10391998291016\n",
      "loss  108.84854125976562\n",
      "loss  108.41986846923828\n",
      "loss  109.97013854980469\n",
      "loss  109.0621337890625\n",
      "loss  109.462646484375\n",
      "loss  108.6527099609375\n",
      "loss  108.2092056274414\n",
      "loss  110.35690307617188\n",
      "loss  107.99728393554688\n",
      "loss  108.22374725341797\n",
      "loss  108.29542541503906\n",
      "loss  109.77043151855469\n",
      "loss  108.06400299072266\n"
     ]
    },
    {
     "ename": "KeyboardInterrupt",
     "evalue": "",
     "output_type": "error",
     "traceback": [
      "\u001b[0;31m---------------------------------------------------------------------------\u001b[0m",
      "\u001b[0;31mKeyboardInterrupt\u001b[0m                         Traceback (most recent call last)",
      "\u001b[0;32m<ipython-input-266-54ffea858255>\u001b[0m in \u001b[0;36m<module>\u001b[0;34m\u001b[0m\n\u001b[1;32m     21\u001b[0m     \u001b[0;32mif\u001b[0m \u001b[0mnumpy\u001b[0m\u001b[0;34m.\u001b[0m\u001b[0mmod\u001b[0m\u001b[0;34m(\u001b[0m\u001b[0mni\u001b[0m\u001b[0;34m+\u001b[0m\u001b[0;36m1\u001b[0m\u001b[0;34m,\u001b[0m \u001b[0mdisp_int\u001b[0m\u001b[0;34m)\u001b[0m \u001b[0;34m==\u001b[0m \u001b[0;36m0\u001b[0m\u001b[0;34m:\u001b[0m\u001b[0;34m\u001b[0m\u001b[0;34m\u001b[0m\u001b[0m\n\u001b[1;32m     22\u001b[0m         \u001b[0mprint\u001b[0m\u001b[0;34m(\u001b[0m\u001b[0;34m'loss '\u001b[0m\u001b[0;34m,\u001b[0m \u001b[0mrunning_loss\u001b[0m\u001b[0;34m.\u001b[0m\u001b[0mitem\u001b[0m\u001b[0;34m(\u001b[0m\u001b[0;34m)\u001b[0m\u001b[0;34m)\u001b[0m\u001b[0;34m\u001b[0m\u001b[0;34m\u001b[0m\u001b[0m\n\u001b[0;32m---> 23\u001b[0;31m     \u001b[0mloss\u001b[0m \u001b[0;34m=\u001b[0m \u001b[0mloss\u001b[0m \u001b[0;34m-\u001b[0m \u001b[0mentropy_beta\u001b[0m \u001b[0;34m*\u001b[0m \u001b[0mq_model\u001b[0m\u001b[0;34m.\u001b[0m\u001b[0mcompute_entropy\u001b[0m\u001b[0;34m(\u001b[0m\u001b[0;34m)\u001b[0m\u001b[0;34m\u001b[0m\u001b[0;34m\u001b[0m\u001b[0m\n\u001b[0m\u001b[1;32m     24\u001b[0m \u001b[0;34m\u001b[0m\u001b[0m\n\u001b[1;32m     25\u001b[0m     \u001b[0mloss\u001b[0m\u001b[0;34m.\u001b[0m\u001b[0mbackward\u001b[0m\u001b[0;34m(\u001b[0m\u001b[0;34m)\u001b[0m\u001b[0;34m\u001b[0m\u001b[0;34m\u001b[0m\u001b[0m\n",
      "\u001b[0;32m<ipython-input-260-ea89631ac89a>\u001b[0m in \u001b[0;36mcompute_entropy\u001b[0;34m(self)\u001b[0m\n\u001b[1;32m     31\u001b[0m         \u001b[0mentropy\u001b[0m \u001b[0;34m=\u001b[0m \u001b[0;36m0.\u001b[0m\u001b[0;34m\u001b[0m\u001b[0;34m\u001b[0m\u001b[0m\n\u001b[1;32m     32\u001b[0m         \u001b[0;32mfor\u001b[0m \u001b[0mt\u001b[0m \u001b[0;32min\u001b[0m \u001b[0mrange\u001b[0m\u001b[0;34m(\u001b[0m\u001b[0mself\u001b[0m\u001b[0;34m.\u001b[0m\u001b[0mT\u001b[0m\u001b[0;34m)\u001b[0m\u001b[0;34m:\u001b[0m\u001b[0;34m\u001b[0m\u001b[0;34m\u001b[0m\u001b[0m\n\u001b[0;32m---> 33\u001b[0;31m             \u001b[0mentropy\u001b[0m \u001b[0;34m+=\u001b[0m \u001b[0mdistributions\u001b[0m\u001b[0;34m.\u001b[0m\u001b[0mnormal\u001b[0m\u001b[0;34m.\u001b[0m\u001b[0mNormal\u001b[0m\u001b[0;34m(\u001b[0m\u001b[0mself\u001b[0m\u001b[0;34m.\u001b[0m\u001b[0mmean\u001b[0m\u001b[0;34m[\u001b[0m\u001b[0mt\u001b[0m\u001b[0;34m]\u001b[0m\u001b[0;34m,\u001b[0m \u001b[0mtorch\u001b[0m\u001b[0;34m.\u001b[0m\u001b[0msqrt\u001b[0m\u001b[0;34m(\u001b[0m\u001b[0;36m1e-6\u001b[0m\u001b[0;34m+\u001b[0m\u001b[0msoftplus\u001b[0m\u001b[0;34m(\u001b[0m\u001b[0mself\u001b[0m\u001b[0;34m.\u001b[0m\u001b[0mdiag_cov\u001b[0m\u001b[0;34m[\u001b[0m\u001b[0mt\u001b[0m\u001b[0;34m]\u001b[0m\u001b[0;34m)\u001b[0m\u001b[0;34m)\u001b[0m\u001b[0;34m)\u001b[0m\u001b[0;34m.\u001b[0m\u001b[0mentropy\u001b[0m\u001b[0;34m(\u001b[0m\u001b[0;34m)\u001b[0m\u001b[0;34m.\u001b[0m\u001b[0msum\u001b[0m\u001b[0;34m(\u001b[0m\u001b[0;34m)\u001b[0m\u001b[0;34m\u001b[0m\u001b[0;34m\u001b[0m\u001b[0m\n\u001b[0m\u001b[1;32m     34\u001b[0m         \u001b[0;32mreturn\u001b[0m \u001b[0mentropy\u001b[0m\u001b[0;34m\u001b[0m\u001b[0;34m\u001b[0m\u001b[0m\n",
      "\u001b[0;31mKeyboardInterrupt\u001b[0m: "
     ]
    }
   ],
   "source": [
    "running_loss = None\n",
    "\n",
    "n_iter = 10000\n",
    "disp_int = 100\n",
    "n_samples = 1\n",
    "entropy_beta = 1.\n",
    "\n",
    "for ni in range(n_iter):\n",
    "    optimizer.zero_grad()\n",
    "    gkf_target.zero_grad()\n",
    "\n",
    "    loss = 0.\n",
    "    for si in range(n_samples):\n",
    "        z_inferred = q_model.sample()\n",
    "        loss = loss - gkf_model.joint_likelihood(x_list, z_inferred)\n",
    "    loss = loss / n_samples\n",
    "    if running_loss is None:\n",
    "        running_loss = loss\n",
    "    else:\n",
    "        running_loss = 0.9 * running_loss + 0.1 * loss\n",
    "    if numpy.mod(ni+1, disp_int) == 0:\n",
    "        print('loss ', running_loss.item())\n",
    "    loss = loss - entropy_beta * q_model.compute_entropy()\n",
    "    \n",
    "    loss.backward()\n",
    "    optimizer.step()"
   ]
  },
  {
   "cell_type": "code",
   "execution_count": 267,
   "metadata": {},
   "outputs": [
    {
     "data": {
      "text/plain": [
       "tensor([0., 0.])"
      ]
     },
     "execution_count": 267,
     "metadata": {},
     "output_type": "execute_result"
    }
   ],
   "source": [
    "list(q_model.parameters())[0].grad"
   ]
  },
  {
   "cell_type": "code",
   "execution_count": 268,
   "metadata": {},
   "outputs": [],
   "source": [
    "q_list = q_model.mean\n",
    "r_list = gkf_model.emit(q_list[1:])"
   ]
  },
  {
   "cell_type": "code",
   "execution_count": 269,
   "metadata": {},
   "outputs": [
    {
     "data": {
      "application/vnd.jupyter.widget-view+json": {
       "model_id": "919ca5a635774dfc85627e5f774bd9e8",
       "version_major": 2,
       "version_minor": 0
      },
      "text/plain": [
       "FigureCanvasNbAgg()"
      ]
     },
     "metadata": {},
     "output_type": "display_data"
    }
   ],
   "source": [
    "x_list_ = numpy.array([x.numpy() for x in x_list])\n",
    "z_list_ = numpy.array([z.numpy() for z in z_list])\n",
    "\n",
    "r_list_ = numpy.array([r.detach().numpy() for r in r_list])\n",
    "q_list_ = numpy.array([m.detach().numpy() for m in q_list])\n",
    "\n",
    "plot.figure()\n",
    "\n",
    "plot.subplot(1,2,1)\n",
    "plot.plot(x_list_[:,0], x_list_[:,1], 'b-')\n",
    "for i, x in enumerate(x_list_):\n",
    "    plot.text(x[0], x[1], '{}'.format(i), color='b')\n",
    "    \n",
    "plot.plot(r_list_[:,0], r_list_[:,1], 'r--')\n",
    "for i, r in enumerate(r_list_):\n",
    "    plot.text(r[0], r[1], '{}'.format(i), color='r')\n",
    "\n",
    "plot.subplot(1,2,2)\n",
    "plot.plot(z_list_[:,0], z_list_[:,1], 'b-')\n",
    "for i, z in enumerate(z_list_):\n",
    "    plot.text(z[0], z[1], '{}'.format(i), color='b')\n",
    "plot.plot(q_list_[:,0], q_list_[:,1], 'r--')\n",
    "for i, q in enumerate(q_list_):\n",
    "    plot.text(q[0], q[1], '{}'.format(i), color='r')\n",
    "\n",
    "plot.show()"
   ]
  },
  {
   "cell_type": "code",
   "execution_count": 238,
   "metadata": {},
   "outputs": [
    {
     "name": "stderr",
     "output_type": "stream",
     "text": [
      "/Users/kyunghyuncho/anaconda3/lib/python3.7/site-packages/matplotlib/pyplot.py:514: RuntimeWarning: More than 20 figures have been opened. Figures created through the pyplot interface (`matplotlib.pyplot.figure`) are retained until explicitly closed and may consume too much memory. (To control this warning, see the rcParam `figure.max_open_warning`).\n",
      "  max_open_warning, RuntimeWarning)\n"
     ]
    },
    {
     "data": {
      "application/vnd.jupyter.widget-view+json": {
       "model_id": "",
       "version_major": 2,
       "version_minor": 0
      },
      "text/plain": [
       "FigureCanvasNbAgg()"
      ]
     },
     "metadata": {},
     "output_type": "display_data"
    }
   ],
   "source": [
    "plot.figure()\n",
    "\n",
    "plot.subplot(2,1,1)\n",
    "plot.imshow(x_list_.T)\n",
    "plot.colorbar()\n",
    "\n",
    "plot.subplot(2,1,2)\n",
    "plot.imshow(r_list_.T)\n",
    "plot.colorbar()\n",
    "\n",
    "plot.show()"
   ]
  },
  {
   "cell_type": "code",
   "execution_count": 323,
   "metadata": {},
   "outputs": [],
   "source": [
    "plot.close('all')"
   ]
  },
  {
   "cell_type": "code",
   "execution_count": 195,
   "metadata": {},
   "outputs": [
    {
     "data": {
      "text/plain": [
       "(11, 2)"
      ]
     },
     "execution_count": 195,
     "metadata": {},
     "output_type": "execute_result"
    }
   ],
   "source": [
    "x_list_.shape"
   ]
  },
  {
   "cell_type": "code",
   "execution_count": null,
   "metadata": {},
   "outputs": [],
   "source": []
  }
 ],
 "metadata": {
  "kernelspec": {
   "display_name": "Python 3",
   "language": "python",
   "name": "python3"
  },
  "language_info": {
   "codemirror_mode": {
    "name": "ipython",
    "version": 3
   },
   "file_extension": ".py",
   "mimetype": "text/x-python",
   "name": "python",
   "nbconvert_exporter": "python",
   "pygments_lexer": "ipython3",
   "version": "3.7.3"
  }
 },
 "nbformat": 4,
 "nbformat_minor": 2
}
